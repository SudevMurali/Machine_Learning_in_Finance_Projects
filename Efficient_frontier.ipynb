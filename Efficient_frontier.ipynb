{
  "cells": [
    {
      "cell_type": "markdown",
      "id": "d85580c0",
      "metadata": {
        "id": "d85580c0"
      },
      "source": [
        "# MIE1624 - Introduction to Data Science and Analytics\n",
        "# Tutorial 9 - Optimization (Winter 2022)"
      ]
    },
    {
      "cell_type": "markdown",
      "id": "a517d71f",
      "metadata": {
        "id": "a517d71f"
      },
      "source": [
        "##### Import the necessary libraries and data"
      ]
    },
    {
      "cell_type": "code",
      "execution_count": null,
      "id": "fb3e0978",
      "metadata": {
        "id": "fb3e0978"
      },
      "outputs": [],
      "source": [
        "import cvxpy as cp\n",
        "import numpy as np\n",
        "import pandas as pd\n",
        "import matplotlib.pyplot as plt"
      ]
    },
    {
      "cell_type": "code",
      "source": [
        "try:\n",
        "\n",
        "  from google.colab import files\n",
        "  uploaded = files.upload()\n",
        "\n",
        "except:\n",
        "\n",
        "  pass"
      ],
      "metadata": {
        "colab": {
          "resources": {
            "http://localhost:8080/nbextensions/google.colab/files.js": {
              "data": "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",
              "ok": true,
              "headers": [
                [
                  "content-type",
                  "application/javascript"
                ]
              ],
              "status": 200,
              "status_text": ""
            }
          },
          "base_uri": "https://localhost:8080/",
          "height": 74
        },
        "id": "G8bNGDib13QY",
        "outputId": "b95d9a41-b8da-4b36-ef78-acba910b4ae6"
      },
      "id": "G8bNGDib13QY",
      "execution_count": null,
      "outputs": [
        {
          "output_type": "display_data",
          "data": {
            "text/plain": [
              "<IPython.core.display.HTML object>"
            ],
            "text/html": [
              "\n",
              "     <input type=\"file\" id=\"files-c046c326-70d7-446d-917f-803a2c9f7f45\" name=\"files[]\" multiple disabled\n",
              "        style=\"border:none\" />\n",
              "     <output id=\"result-c046c326-70d7-446d-917f-803a2c9f7f45\">\n",
              "      Upload widget is only available when the cell has been executed in the\n",
              "      current browser session. Please rerun this cell to enable.\n",
              "      </output>\n",
              "      <script src=\"/nbextensions/google.colab/files.js\"></script> "
            ]
          },
          "metadata": {}
        },
        {
          "output_type": "stream",
          "name": "stdout",
          "text": [
            "Saving monthly_closings_2021.csv to monthly_closings_2021.csv\n"
          ]
        }
      ]
    },
    {
      "cell_type": "code",
      "source": [
        "try:\n",
        "\n",
        "  from google.colab import files\n",
        "  uploaded = files.upload()\n",
        "\n",
        "except:\n",
        "\n",
        "  pass"
      ],
      "metadata": {
        "colab": {
          "resources": {
            "http://localhost:8080/nbextensions/google.colab/files.js": {
              "data": "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",
              "ok": true,
              "headers": [
                [
                  "content-type",
                  "application/javascript"
                ]
              ],
              "status": 200,
              "status_text": ""
            }
          },
          "base_uri": "https://localhost:8080/",
          "height": 74
        },
        "id": "DFIRwC8U2G24",
        "outputId": "2bc9ba63-cf1a-4801-fe53-a93480a7b0e0"
      },
      "id": "DFIRwC8U2G24",
      "execution_count": null,
      "outputs": [
        {
          "output_type": "display_data",
          "data": {
            "text/plain": [
              "<IPython.core.display.HTML object>"
            ],
            "text/html": [
              "\n",
              "     <input type=\"file\" id=\"files-ffaf1717-95e9-468f-8556-ba469f5b8f08\" name=\"files[]\" multiple disabled\n",
              "        style=\"border:none\" />\n",
              "     <output id=\"result-ffaf1717-95e9-468f-8556-ba469f5b8f08\">\n",
              "      Upload widget is only available when the cell has been executed in the\n",
              "      current browser session. Please rerun this cell to enable.\n",
              "      </output>\n",
              "      <script src=\"/nbextensions/google.colab/files.js\"></script> "
            ]
          },
          "metadata": {}
        },
        {
          "output_type": "stream",
          "name": "stdout",
          "text": [
            "Saving monthly_closings_2018_to_2020.csv to monthly_closings_2018_to_2020.csv\n"
          ]
        }
      ]
    },
    {
      "cell_type": "code",
      "execution_count": null,
      "id": "ca834ef8",
      "metadata": {
        "id": "ca834ef8"
      },
      "outputs": [],
      "source": [
        "#Load file and into dateframe\n",
        "monthlyClosing_inSample = 'monthly_closings_2018_to_2020.csv'\n",
        "monthlyClosing_outSample = 'monthly_closings_2021.csv'\n",
        "\n",
        "df1 = pd.read_csv(monthlyClosing_inSample)\n",
        "df2 = pd.read_csv(monthlyClosing_outSample)\n",
        "\n",
        "#Remove date\n",
        "price = df1.iloc[:,1:]\n",
        "\n",
        "#Calculate monthly return as percent change of monthly closing values, reset indices \n",
        "ret = price.pct_change().iloc[1:,:]\n",
        "ret.reset_index(inplace = True, drop = True)\n"
      ]
    },
    {
      "cell_type": "markdown",
      "id": "c4c5b1e5",
      "metadata": {
        "id": "c4c5b1e5"
      },
      "source": [
        "##### Compute the covariance matrix Q and means for each column "
      ]
    },
    {
      "cell_type": "code",
      "execution_count": null,
      "id": "0ae84c6a",
      "metadata": {
        "scrolled": true,
        "id": "0ae84c6a"
      },
      "outputs": [],
      "source": [
        "# Compute the covariance matrix of the percent change of prices\n",
        "Q = ret.cov().to_numpy()\n",
        "\n",
        "\n",
        "# Compute the mean for each column \n",
        "mu = np.array(np.mean(ret, axis = 0))\n",
        "\n",
        "# Store number of features \n",
        "n = ret.shape[1] "
      ]
    },
    {
      "cell_type": "markdown",
      "id": "00a0a9f4",
      "metadata": {
        "id": "00a0a9f4"
      },
      "source": [
        "##### Solve for the minimum variance portfolio\n",
        "\n",
        "Using the covarinace matrix, solve for the minimum variance portfolio. The function should be constrained so that the sum of all weights is equal to 1. You may use a number other than 1 but it must be consistent for all calucations."
      ]
    },
    {
      "cell_type": "code",
      "execution_count": null,
      "id": "f3c8190c",
      "metadata": {
        "colab": {
          "base_uri": "https://localhost:8080/"
        },
        "id": "f3c8190c",
        "outputId": "c83e3e91-e648-4cb0-c1f1-86a14fcd357b"
      },
      "outputs": [
        {
          "output_type": "execute_result",
          "data": {
            "text/plain": [
              "0.0009278939303461065"
            ]
          },
          "metadata": {},
          "execution_count": 6
        }
      ],
      "source": [
        "# Create optimization variable w1, 26 total variables \n",
        "w1 = cp.Variable(n)\n",
        "\n",
        "# Form the problem , minimize\n",
        "constraints1 = [sum(w1) == 1 , w1 >= 0]\n",
        "prob1 = cp.Problem(cp.Minimize(cp.quad_form(w1, Q)) , [sum(w1) == 1 , w1 >= 0])\n",
        "\n",
        "#Solve Problem\n",
        "prob1.solve(verbose=False)"
      ]
    },
    {
      "cell_type": "code",
      "execution_count": null,
      "id": "2a1a0a53",
      "metadata": {
        "colab": {
          "base_uri": "https://localhost:8080/"
        },
        "id": "2a1a0a53",
        "outputId": "2fa67c72-1b76-4cca-b995-d813bc325b20"
      },
      "outputs": [
        {
          "output_type": "execute_result",
          "data": {
            "text/plain": [
              "array([ 2.34711076e-19,  5.74341943e-20,  8.04974643e-21,  8.47497298e-20,\n",
              "        1.98801020e-20,  1.09424374e-20,  2.73065413e-20,  2.72299411e-19,\n",
              "        5.54485957e-02,  1.08374508e-19,  8.96592846e-20,  6.59194971e-01,\n",
              "       -6.72526425e-20,  2.57096580e-20,  1.76013193e-03,  8.87191244e-02,\n",
              "        5.48842212e-02, -5.82451239e-20, -4.53773627e-19,  3.42087380e-20,\n",
              "       -3.00374544e-20,  8.76648789e-20,  9.01180838e-02, -1.21197912e-21,\n",
              "        4.98748717e-02])"
            ]
          },
          "metadata": {},
          "execution_count": 7
        }
      ],
      "source": [
        "# matrix of allocations which offers the minimum variance \n",
        "w_minVar = w1.value #solution value: minimum variance \n",
        "w_minVar"
      ]
    },
    {
      "cell_type": "code",
      "execution_count": null,
      "id": "c54ae992",
      "metadata": {
        "colab": {
          "base_uri": "https://localhost:8080/"
        },
        "id": "c54ae992",
        "outputId": "ea731ec9-813c-4a78-f730-1b62b76d30a3"
      },
      "outputs": [
        {
          "output_type": "execute_result",
          "data": {
            "text/plain": [
              "0.0009278939303461066"
            ]
          },
          "metadata": {},
          "execution_count": 8
        }
      ],
      "source": [
        "#Compute the variance of the portfolio\n",
        "var_minVar = np.dot(w_minVar, np.dot(Q, w_minVar)) #variance\n",
        "var_minVar"
      ]
    },
    {
      "cell_type": "code",
      "execution_count": null,
      "id": "fbff4503",
      "metadata": {
        "colab": {
          "base_uri": "https://localhost:8080/"
        },
        "id": "fbff4503",
        "outputId": "ee3b27be-aaff-4216-bef5-7c4b15899ea2"
      },
      "outputs": [
        {
          "output_type": "execute_result",
          "data": {
            "text/plain": [
              "0.008653285914910979"
            ]
          },
          "metadata": {},
          "execution_count": 9
        }
      ],
      "source": [
        "#Compute the return of the portfolio\n",
        "ret_minVar = np.dot(mu, w_minVar) #expected return\n",
        "ret_minVar"
      ]
    },
    {
      "cell_type": "markdown",
      "id": "9bd62400",
      "metadata": {
        "id": "9bd62400"
      },
      "source": [
        "##### Solve for the maximum return portfolio\n",
        "\n",
        "Using the mean returns for each asset to compute the maximized return portfolio. The function should be constrained so that the sum of all weights is equal to 1. You may use a number other than 1 but it must be consistent for all calucations. "
      ]
    },
    {
      "cell_type": "code",
      "execution_count": null,
      "id": "d28c015b",
      "metadata": {
        "colab": {
          "base_uri": "https://localhost:8080/"
        },
        "id": "d28c015b",
        "outputId": "f64398f3-35e1-49ef-fd87-5bde94eba3fc"
      },
      "outputs": [
        {
          "output_type": "execute_result",
          "data": {
            "text/plain": [
              "0.1021163469313111"
            ]
          },
          "metadata": {},
          "execution_count": 10
        }
      ],
      "source": [
        "# Create optimization variable w2, 26 total variables \n",
        "w2 = cp.Variable(n)\n",
        "\n",
        "constraints2 = [sum(w2) == 1, w2 >= 0]\n",
        "prob2 = cp.Problem(cp.Maximize(mu.T@w2), constraints2)\n",
        "                   \n",
        "# Solve the problem \n",
        "prob2.solve(verbose=False)"
      ]
    },
    {
      "cell_type": "code",
      "execution_count": null,
      "id": "b04fd5db",
      "metadata": {
        "colab": {
          "base_uri": "https://localhost:8080/"
        },
        "id": "b04fd5db",
        "outputId": "efa301c3-5d64-4df9-bbb8-d289cd4f5654"
      },
      "outputs": [
        {
          "output_type": "execute_result",
          "data": {
            "text/plain": [
              "array([4.00446549e-11, 2.33109317e-11, 2.11897368e-11, 2.02514107e-11,\n",
              "       2.13526338e-11, 2.10766681e-11, 2.36702200e-11, 2.30281295e-11,\n",
              "       2.20156300e-11, 1.84127151e-11, 1.42266925e-11, 1.97676588e-11,\n",
              "       1.08469522e-09, 1.88147929e-11, 2.37055006e-11, 1.85314364e-11,\n",
              "       2.26815434e-11, 2.41212013e-11, 9.99999998e-01, 1.68558540e-11,\n",
              "       8.78989931e-12, 2.30303345e-11, 2.19747289e-11, 2.02437383e-11,\n",
              "       1.72961027e-11])"
            ]
          },
          "metadata": {},
          "execution_count": 11
        }
      ],
      "source": [
        "# matrix of allocations which offers th\n",
        "w_maxRet = w2.value #solution value: maximum expected return\n",
        "w_maxRet"
      ]
    },
    {
      "cell_type": "code",
      "execution_count": null,
      "id": "b943178a",
      "metadata": {
        "colab": {
          "base_uri": "https://localhost:8080/"
        },
        "id": "b943178a",
        "outputId": "4d4bd13f-cc4b-412d-9fe8-c6e685734fad"
      },
      "outputs": [
        {
          "output_type": "execute_result",
          "data": {
            "text/plain": [
              "0.3397485196506799"
            ]
          },
          "metadata": {},
          "execution_count": 12
        }
      ],
      "source": [
        "#Compute the variance of the portfolio\n",
        "var_maxRet = np.dot(w_maxRet, np.dot(Q, w_maxRet)) #variance\n",
        "var_maxRet"
      ]
    },
    {
      "cell_type": "code",
      "execution_count": null,
      "id": "30915022",
      "metadata": {
        "colab": {
          "base_uri": "https://localhost:8080/"
        },
        "id": "30915022",
        "outputId": "711ca12a-1812-450c-9c2d-27db83165582"
      },
      "outputs": [
        {
          "output_type": "execute_result",
          "data": {
            "text/plain": [
              "0.10211634693131112"
            ]
          },
          "metadata": {},
          "execution_count": 13
        }
      ],
      "source": [
        "#Compute the return of the portfolio\n",
        "ret_maxRet = np.dot(mu, w_maxRet) #expected return\n",
        "ret_maxRet"
      ]
    },
    {
      "cell_type": "markdown",
      "id": "6f169a45",
      "metadata": {
        "id": "6f169a45"
      },
      "source": [
        "##### Compute classical Markowitz efficent frontier \n",
        "\n",
        "For each expected return, ranging from the return of the minimum variance portfolio to return of the maximum return portfolio, compute the optimal portfolio. The set of these optimal portfolios equals the efficient fronteir for the given dataset."
      ]
    },
    {
      "cell_type": "code",
      "execution_count": null,
      "id": "3a1ad41d",
      "metadata": {
        "id": "3a1ad41d"
      },
      "outputs": [],
      "source": [
        "#Create target ranges for portfolio returns\n",
        "targetLen = 50\n",
        "#targetRet = np.linspace(ret_minVar,ret_maxRet,50)\n",
        "targetRet = np.linspace(ret_minVar,ret_maxRet,targetLen)\n"
      ]
    },
    {
      "cell_type": "code",
      "execution_count": null,
      "id": "1f008770",
      "metadata": {
        "id": "1f008770"
      },
      "outputs": [],
      "source": [
        "# Define optimization problem and compute one portfolio on efficient frontier\n",
        "w = cp.Variable(n)\n",
        "eps = cp.Parameter()\n",
        "\n",
        "constraints3 = [mu.T@w >= eps,sum(w) == 1,w >= 0]\n",
        "prob3 = cp.Problem(cp.Minimize(cp.quad_form(w, Q)), constraints3)\n"
      ]
    },
    {
      "cell_type": "code",
      "execution_count": null,
      "id": "f7a6656a",
      "metadata": {
        "id": "f7a6656a"
      },
      "outputs": [],
      "source": [
        "# Compute efficient frontier\n",
        "w_front_clas = []\n",
        "var_front_clas = []\n",
        "ret_front_clas = []\n",
        "for epsilon in targetRet:\n",
        "    eps.value = epsilon\n",
        "    prob3.solve()\n",
        "    w_front_clas.append(w.value)\n",
        "    var_front_clas.append(np.dot(w.value, np.dot(Q, w.value)))\n",
        "    ret_front_clas.append(np.dot(mu, w.value))\n",
        "\n"
      ]
    },
    {
      "cell_type": "code",
      "source": [
        "plt.plot(var_front_clas,ret_front_clas)\n",
        "plt.show()"
      ],
      "metadata": {
        "colab": {
          "base_uri": "https://localhost:8080/",
          "height": 265
        },
        "id": "DRsMdlPq8iE4",
        "outputId": "c82d94e8-b79d-4e92-cf5e-da34aadf6740"
      },
      "id": "DRsMdlPq8iE4",
      "execution_count": null,
      "outputs": [
        {
          "output_type": "display_data",
          "data": {
            "text/plain": [
              "<Figure size 432x288 with 1 Axes>"
            ],
            "image/png": "[encoded data removed]"
          },
          "metadata": {
            "needs_background": "light"
          }
        }
      ]
    },
    {
      "cell_type": "markdown",
      "id": "d4a5a77c",
      "metadata": {
        "id": "d4a5a77c"
      },
      "source": [
        "##### Compute the resampled efficient frontier \n",
        "\n",
        "To compute the resampled frontier, from the origional dateset compute simulated (resampled) data. Form each resampled dataset, compute the new efficient frontier. The efficient frontier for the resampled data is found as the average weight of each asset at each return level along each resampled frontier."
      ]
    },
    {
      "cell_type": "code",
      "execution_count": null,
      "id": "b557a074",
      "metadata": {
        "id": "b557a074"
      },
      "outputs": [],
      "source": [
        "#Resampling---------------------------------------------------------------------\n",
        "\n",
        "sample_size = ret.shape[0] \n",
        "repetition = 85\n",
        "\n",
        "#set variables for storing resuts\n",
        "\n",
        "#Use a random seed so that results will be consistent \n",
        "np.random.seed(10)\n",
        "\n",
        "var_for_each_sample = pd.DataFrame(columns = range(50))\n",
        "ret_for_each_sample = pd.DataFrame(columns = range(50))\n",
        "#weights = pd.DataFrame(columns = range(mu.shape[0]))\n",
        "w_ = []\n",
        "Q_resample_list,mu_resample_list = [], []\n",
        "var_minVar_list, ret_minVar_list = [], []\n",
        "var_maxRet_list, ret_maxRet_list = [], []\n",
        "var_frontC_list, ret_frontC_list = [], []\n",
        "o=0\n",
        "#Resample by taking n (sample size) draws from the original input\n",
        "for i in range(repetition):\n",
        "    \n",
        "    #resample by drawing from the multivariate normal distribution with mu and Q\n",
        "    x_resample = np.random.multivariate_normal(mu,Q ,sample_size)\n",
        "\n",
        "    #Calculate the new mean vector (mu_resample) and new variance-covariance matrix (Q _resample) \n",
        "    #resampled mu and Q\n",
        "\n",
        "    mu_resample = np.array(np.mean(x_resample, axis = 0))\n",
        "    Q_resample = np.cov(x_resample,rowvar = False)\n",
        "    \n",
        "\n",
        "    #Compute minimum variance\n",
        "\n",
        "    w1 = cp.Variable(n)\n",
        "    constraints1 = [sum(w1) == 1 , w1 >= 0]\n",
        "    prob1 = cp.Problem(cp.Minimize(cp.quad_form(w1, Q_resample)) , [sum(w1) == 1 , w1 >= 0])\n",
        "    prob1.solve(verbose=False)\n",
        "\n",
        "    w_minVar_sam = w1.value #solution value: minimum variance\n",
        "    var_minVar_sam = np.dot(w_minVar_sam, np.dot(Q_resample, w_minVar_sam)) #variance\n",
        "    ret_minVar_sam = np.dot(mu_resample, w_minVar_sam) #expected return\n",
        "    \n",
        "    var_minVar_list.append(var_minVar_sam)\n",
        "    ret_minVar_list.append(ret_minVar_sam)\n",
        "    #compute maximum expected return\n",
        "\n",
        "    w2 = cp.Variable(n)\n",
        "    constraints2 = [sum(w2) == 1, w2 >= 0]\n",
        "    prob2 = cp.Problem(cp.Maximize(mu_resample.T@w2), constraints2)\n",
        "    prob2.solve(verbose=False)\n",
        "\n",
        "    w_maxRet_sam = w2.value #solution value: maximum expected return\n",
        "    var_maxRet_sam = np.dot(w_maxRet_sam, np.dot(Q_resample, w_maxRet_sam)) #variance\n",
        "    ret_maxRet_sam = np.dot(mu_resample, w_maxRet_sam) #expected return\n",
        "    \n",
        "    \n",
        "    #target return\n",
        "\n",
        "    targetRet_1 = np.linspace(ret_minVar_sam,ret_maxRet_sam,50)\n",
        "    \n",
        "    # Define optimization problem and compute one portfolio on efficient frontier\n",
        "    w_re = cp.Variable(n)\n",
        "    eps_re = cp.Parameter()\n",
        "\n",
        "    constraints4 = [mu_resample.T@w_re >= eps_re,sum(w_re) == 1,w_re >= 0]\n",
        "    prob4 = cp.Problem(cp.Minimize(cp.quad_form(w_re, Q_resample)), constraints4)\n",
        "    \n",
        "    # Compute efficient frontier\n",
        "    \n",
        "    w_front_resam = []\n",
        "    var_front_resam = []\n",
        "    ret_front_resam = []\n",
        "    for epsilon in targetRet_1:\n",
        "          eps_re.value = epsilon\n",
        "          prob4.solve(verbose=False)\n",
        "          w_front_resam.append(w_re.value)\n",
        "          var_front_resam.append(np.dot(w_re.value, np.dot(Q_resample, w_re.value)))\n",
        "          ret_front_resam.append(np.dot(mu_resample, w_re.value))\n",
        "  \n",
        "    w_.append(w_front_resam)\n",
        "    \n",
        "\n",
        "\n",
        "    #Store results for each resampling\n",
        "    mu_resample_list.append(mu_resample)\n",
        "    Q_resample_list.append(Q_resample)\n",
        "    var_minVar_list.append(var_minVar_sam)\n",
        "    ret_minVar_list.append(ret_minVar_sam)\n",
        "    var_maxRet_list.append(var_maxRet_sam)\n",
        "    ret_maxRet_list.append(ret_maxRet_sam)\n",
        "  \n",
        "    var_frontC_list.append(var_front_resam)\n",
        "    ret_frontC_list.append(ret_front_resam)\n",
        "    o = o + 1\n",
        "\n",
        "\n",
        "\n",
        "\n"
      ]
    },
    {
      "cell_type": "code",
      "source": [
        "#compute the average weights at each return level\n",
        "w_ = np.array(w_)\n",
        "a=np.mean(w_, axis = 0)\n",
        "a.shape"
      ],
      "metadata": {
        "colab": {
          "base_uri": "https://localhost:8080/"
        },
        "id": "V2Y4HdJ4MgbL",
        "outputId": "0b118d83-c388-44fd-cfcc-dc7aa7c74e5e"
      },
      "id": "V2Y4HdJ4MgbL",
      "execution_count": null,
      "outputs": [
        {
          "output_type": "execute_result",
          "data": {
            "text/plain": [
              "(50, 25)"
            ]
          },
          "metadata": {},
          "execution_count": 19
        }
      ]
    },
    {
      "cell_type": "code",
      "source": [
        "#compute the resampled efficient frontier based on the average weights and orignial mu & Q\n",
        "var_front_resample = []\n",
        "ret_front_resample = []\n",
        "counter = 0\n",
        "for epsilon in targetRet:\n",
        "    eps.value = epsilon\n",
        "    w = a[counter]\n",
        "    var_front_resample.append(np.dot(w, np.dot(Q, w)))\n",
        "    ret_front_resample.append(np.dot(mu, w))\n",
        "    counter += 1"
      ],
      "metadata": {
        "id": "ZRIO_BOX8gdV"
      },
      "id": "ZRIO_BOX8gdV",
      "execution_count": null,
      "outputs": []
    },
    {
      "cell_type": "code",
      "source": [
        "#Efficient Frontier for resampled data------------------------------------------\n",
        "plt.plot(var_front_resample,ret_front_resample,)\n",
        "plt.show"
      ],
      "metadata": {
        "colab": {
          "base_uri": "https://localhost:8080/",
          "height": 282
        },
        "id": "g_i0cFpY7Iht",
        "outputId": "84bc5181-c5bd-4a40-d344-03e7695b2dae"
      },
      "id": "g_i0cFpY7Iht",
      "execution_count": null,
      "outputs": [
        {
          "output_type": "execute_result",
          "data": {
            "text/plain": [
              "<function matplotlib.pyplot.show>"
            ]
          },
          "metadata": {},
          "execution_count": 21
        },
        {
          "output_type": "display_data",
          "data": {
            "text/plain": [
              "<Figure size 432x288 with 1 Axes>"
            ],
            "image/png": "[encoded data removed]"
          },
          "metadata": {
            "needs_background": "light"
          }
        }
      ]
    },
    {
      "cell_type": "markdown",
      "id": "01fe6c6b",
      "metadata": {
        "id": "01fe6c6b"
      },
      "source": [
        "##### For the classical frontier, determine and store the portfolio weights for the minimum variance, maximum return, and Sharpe ratio optimized portfolio's\n",
        "\n",
        "The Sharpe ratio of each portfolio is calculatd as the (portfolio return - the risk free rate) / portfolio standard deviation\n",
        "Use a risk free rate of 0.2% (0.002) monthly."
      ]
    },
    {
      "cell_type": "code",
      "execution_count": null,
      "id": "5e4dd2f5",
      "metadata": {
        "id": "5e4dd2f5"
      },
      "outputs": [],
      "source": [
        "riskFreeRate = 0.002"
      ]
    },
    {
      "cell_type": "code",
      "execution_count": null,
      "id": "4d695c7b",
      "metadata": {
        "id": "4d695c7b",
        "outputId": "bc3bb104-d0d1-429d-b45d-4524e68242dc",
        "colab": {
          "base_uri": "https://localhost:8080/"
        }
      },
      "outputs": [
        {
          "output_type": "stream",
          "name": "stdout",
          "text": [
            "[ 3.27231831e-19 -1.14158479e-20 -8.31044264e-22  1.11997265e-19\n",
            "  1.90860299e-20  1.70009911e-20 -2.67194251e-20  8.07705709e-20\n",
            "  5.54485957e-02  8.99771706e-20  9.08772980e-20  6.59194971e-01\n",
            "  9.71760135e-20  3.48214411e-20  1.76013193e-03  8.87191244e-02\n",
            "  5.48842212e-02 -8.25234018e-20 -1.26897129e-20  4.97872186e-20\n",
            "  4.42501729e-20  2.33161871e-20  9.01180838e-02  8.74792459e-21\n",
            "  4.98748717e-02]\n",
            "[-3.76641102e-06 -1.77166188e-05 -1.49411040e-05 -1.42144539e-05\n",
            " -1.51396656e-05 -1.48400654e-05 -1.82149993e-05 -1.68212576e-05\n",
            " -1.57762971e-05 -1.29763636e-05 -1.10578558e-05 -1.38682043e-05\n",
            "  3.08286479e-03 -1.32110420e-05 -1.83544519e-05 -1.30632427e-05\n",
            " -1.65074295e-05 -1.97159273e-05  9.97247721e-01 -1.22010830e-05\n",
            " -8.89732576e-06 -1.70065598e-05 -1.57004597e-05 -1.41831308e-05\n",
            " -1.23959239e-05]\n",
            "[ 1.01861669e-19  1.78270925e-20  3.40281834e-21  3.45061701e-03\n",
            "  2.80019286e-03  1.05518225e-20  1.73869043e-20  7.77982107e-03\n",
            "  4.20063929e-02  4.09990020e-20  6.59484053e-03  6.21663046e-01\n",
            " -3.90347788e-20  1.60447328e-02  9.90076628e-03  9.28537657e-02\n",
            "  6.90425079e-02  3.29807138e-04  5.67500667e-04  1.16810499e-20\n",
            "  1.76262723e-03  2.75768645e-20  7.65180505e-02  8.43409010e-03\n",
            "  4.02512414e-02]\n",
            "[ 1.61550478e-01 -1.48525650e-05 -1.22078922e-05 -1.17590209e-05\n",
            " -1.22866553e-05 -1.20433639e-05 -1.46325072e-05 -1.34896185e-05\n",
            " -1.31208420e-05 -1.01357302e-05 -9.08220529e-06 -9.79014336e-06\n",
            "  4.13633702e-01 -1.08070120e-05 -1.53302077e-05 -1.05443477e-05\n",
            " -1.37035480e-05 -1.67031816e-05  4.13272714e-01 -9.98981466e-06\n",
            "  1.17938563e-02 -1.32851249e-05 -1.31470025e-05 -1.15139800e-05\n",
            " -2.31157942e-06]\n"
          ]
        }
      ],
      "source": [
        "#Determine weights of minimum variance and maximum return along the efficient frontier \n",
        "\n",
        "#Min variance\n",
        "orig_weights_minVar = w_front_clas[0]\n",
        "print(orig_weights_minVar)\n",
        "\n",
        "#Max return \n",
        "orig_weights_maxRet = w_front_clas[targetLen - 1]\n",
        "print(orig_weights_maxRet)\n",
        "\n",
        "#-------------------------------------------------------------------------------\n",
        "#Min variance for resampled data\n",
        "resampled_weights_minVar = a[0]\n",
        "print(resampled_weights_minVar)\n",
        "\n",
        "#Max return for resampled data\n",
        "resampled_weights_maxRet = a[targetLen - 1]\n",
        "print(resampled_weights_maxRet)"
      ]
    },
    {
      "cell_type": "code",
      "execution_count": null,
      "id": "8cb5ec99",
      "metadata": {
        "id": "8cb5ec99",
        "outputId": "01e2e263-0732-4969-8ae0-ac312121744e",
        "colab": {
          "base_uri": "https://localhost:8080/"
        }
      },
      "outputs": [
        {
          "output_type": "stream",
          "name": "stdout",
          "text": [
            "[0.21841729 0.2779752  0.32773819 0.36826694 0.4008428  0.42616046\n",
            " 0.44633576 0.46249674 0.47546297 0.48590318 0.49436387 0.50110517\n",
            " 0.50647349 0.51076406 0.51414448 0.51671249 0.51853559 0.51979259\n",
            " 0.52060704 0.52107556 0.52127386 0.5212614  0.52108501 0.52078165\n",
            " 0.52038055 0.51990488 0.51937306 0.51879974 0.51819659 0.51757291\n",
            " 0.51693611 0.51629208 0.51564552 0.51500013 0.51435884 0.51372397\n",
            " 0.5130749  0.51221715 0.50603401 0.49185411 0.4725573  0.45072256\n",
            " 0.42824701 0.40633587 0.38565584 0.34302508 0.28490758 0.23611194\n",
            " 0.19945268 0.17218983]\n",
            "20\n",
            "[ 3.03124970e-01 -1.30430698e-05 -4.39969876e-06 -2.13672025e-06\n",
            " -4.44145736e-06 -5.14784834e-06 -1.13547226e-05 -1.41828634e-05\n",
            " -6.78108651e-06 -2.91792405e-06 -1.35006883e-06  4.07841836e-01\n",
            "  1.68181902e-01 -2.72338048e-06 -7.20346917e-06 -2.31398753e-06\n",
            " -4.41024202e-06 -9.41315954e-06  2.27419957e-02 -2.05413149e-06\n",
            "  9.82208378e-02 -7.79536737e-06 -3.38124682e-06 -4.11943405e-06\n",
            " -2.37055970e-06]\n",
            "[0.21028353 0.2515833  0.28825276 0.32086151 0.34930336 0.37395565\n",
            " 0.39467569 0.41202986 0.4260937  0.43750136 0.44659369 0.45370839\n",
            " 0.45954751 0.46419323 0.46780802 0.47104646 0.47402165 0.4765808\n",
            " 0.47886985 0.48079506 0.48268346 0.48431619 0.48564591 0.48653234\n",
            " 0.48714423 0.48759262 0.48688582 0.48581854 0.48445869 0.48232257\n",
            " 0.47943254 0.47559759 0.47116317 0.46619648 0.46087401 0.45448143\n",
            " 0.44780539 0.44069547 0.43301155 0.42511792 0.41667234 0.40768253\n",
            " 0.39733263 0.38702118 0.37521638 0.3621957  0.34911558 0.33712303\n",
            " 0.3255906  0.31655939]\n",
            "25\n",
            "[ 2.95421127e-01  1.26471801e-04 -2.73271311e-06  1.14813054e-02\n",
            "  6.18031561e-03 -2.91015400e-06 -4.95584179e-06  8.84549734e-04\n",
            " -3.49120266e-06  1.26068854e-02  1.72160021e-02  1.14342709e-01\n",
            "  2.06396254e-01  1.47256870e-02  1.07820667e-03  5.91732416e-02\n",
            "  2.10355260e-04 -5.15497813e-06  6.97931995e-02 -1.78759287e-06\n",
            "  1.12554057e-01 -3.81984109e-06 -2.69276625e-06  1.85562589e-02\n",
            "  5.92809210e-02]\n"
          ]
        }
      ],
      "source": [
        "#Compute sharp ratio \n",
        "ret_array_clas = np.array(ret_front_clas)\n",
        "var_array_clas = np.array(var_front_clas)\n",
        "\n",
        "sharpe_array_clas = (ret_array_clas - riskFreeRate)/np.sqrt(var_array_clas)\n",
        "\n",
        "weights_sharpe_clas = w_front_clas[sharpe_array_clas.argmax()]\n",
        "print(sharpe_array_clas)\n",
        "print(sharpe_array_clas.argmax())\n",
        "print(weights_sharpe_clas)\n",
        "\n",
        "#Sharp ratio for resampled data-------------------------------------------------\n",
        "ret_array_resam = np.array(ret_front_resample)\n",
        "var_array_resam = np.array(var_front_resample)\n",
        "sharpe_array_resam = (ret_array_resam - riskFreeRate)/np.sqrt(var_array_resam)\n",
        "weights_sharpe_resam = a[sharpe_array_resam.argmax()]\n",
        "print(sharpe_array_resam)\n",
        "print(sharpe_array_resam.argmax())\n",
        "print(weights_sharpe_resam)"
      ]
    },
    {
      "cell_type": "markdown",
      "id": "b4bd20a5",
      "metadata": {
        "id": "b4bd20a5"
      },
      "source": [
        "##### For each of the 6 portfolios, calculate the expected return on the 2021 (out-of-sample) data\n"
      ]
    },
    {
      "cell_type": "code",
      "execution_count": null,
      "id": "86866eff",
      "metadata": {
        "id": "86866eff",
        "outputId": "4c4bd8c5-986f-4dd9-f603-6189c279fb0d",
        "colab": {
          "base_uri": "https://localhost:8080/",
          "height": 174
        }
      },
      "outputs": [
        {
          "output_type": "execute_result",
          "data": {
            "text/plain": [
              "       AMD       OXY       XLF     BABA         F       BAC       CCL  \\\n",
              "1  0.68029  0.446726  0.366112 -0.53201  0.982391  0.522067  0.077665   \n",
              "\n",
              "        AMC       DAL        FB  ...       UNH       MMM      AAL      MULN  \\\n",
              "1  1.051282  0.029505  0.302017  ...  0.521509  0.043312  0.04601 -0.584591   \n",
              "\n",
              "        QQQ      AAPL       XLE       FXI       JPM         V  \n",
              "1  0.269255  0.353931  0.458557 -0.256478  0.261573  0.128286  \n",
              "\n",
              "[1 rows x 25 columns]"
            ],
            "text/html": [
              "\n",
              "  <div id=\"df-bd6b4f34-badb-4a31-9bcd-a837c7b5b913\">\n",
              "    <div class=\"colab-df-container\">\n",
              "      <div>\n",
              "<style scoped>\n",
              "    .dataframe tbody tr th:only-of-type {\n",
              "        vertical-align: middle;\n",
              "    }\n",
              "\n",
              "    .dataframe tbody tr th {\n",
              "        vertical-align: top;\n",
              "    }\n",
              "\n",
              "    .dataframe thead th {\n",
              "        text-align: right;\n",
              "    }\n",
              "</style>\n",
              "<table border=\"1\" class=\"dataframe\">\n",
              "  <thead>\n",
              "    <tr style=\"text-align: right;\">\n",
              "      <th></th>\n",
              "      <th>AMD</th>\n",
              "      <th>OXY</th>\n",
              "      <th>XLF</th>\n",
              "      <th>BABA</th>\n",
              "      <th>F</th>\n",
              "      <th>BAC</th>\n",
              "      <th>CCL</th>\n",
              "      <th>AMC</th>\n",
              "      <th>DAL</th>\n",
              "      <th>FB</th>\n",
              "      <th>...</th>\n",
              "      <th>UNH</th>\n",
              "      <th>MMM</th>\n",
              "      <th>AAL</th>\n",
              "      <th>MULN</th>\n",
              "      <th>QQQ</th>\n",
              "      <th>AAPL</th>\n",
              "      <th>XLE</th>\n",
              "      <th>FXI</th>\n",
              "      <th>JPM</th>\n",
              "      <th>V</th>\n",
              "    </tr>\n",
              "  </thead>\n",
              "  <tbody>\n",
              "    <tr>\n",
              "      <th>1</th>\n",
              "      <td>0.68029</td>\n",
              "      <td>0.446726</td>\n",
              "      <td>0.366112</td>\n",
              "      <td>-0.53201</td>\n",
              "      <td>0.982391</td>\n",
              "      <td>0.522067</td>\n",
              "      <td>0.077665</td>\n",
              "      <td>1.051282</td>\n",
              "      <td>0.029505</td>\n",
              "      <td>0.302017</td>\n",
              "      <td>...</td>\n",
              "      <td>0.521509</td>\n",
              "      <td>0.043312</td>\n",
              "      <td>0.04601</td>\n",
              "      <td>-0.584591</td>\n",
              "      <td>0.269255</td>\n",
              "      <td>0.353931</td>\n",
              "      <td>0.458557</td>\n",
              "      <td>-0.256478</td>\n",
              "      <td>0.261573</td>\n",
              "      <td>0.128286</td>\n",
              "    </tr>\n",
              "  </tbody>\n",
              "</table>\n",
              "<p>1 rows × 25 columns</p>\n",
              "</div>\n",
              "      <button class=\"colab-df-convert\" onclick=\"convertToInteractive('df-bd6b4f34-badb-4a31-9bcd-a837c7b5b913')\"\n",
              "              title=\"Convert this dataframe to an interactive table.\"\n",
              "              style=\"display:none;\">\n",
              "        \n",
              "  <svg xmlns=\"http://www.w3.org/2000/svg\" height=\"24px\"viewBox=\"0 0 24 24\"\n",
              "       width=\"24px\">\n",
              "    <path d=\"M0 0h24v24H0V0z\" fill=\"none\"/>\n",
              "    <path d=\"M18.56 5.44l.94 2.06.94-2.06 2.06-.94-2.06-.94-.94-2.06-.94 2.06-2.06.94zm-11 1L8.5 8.5l.94-2.06 2.06-.94-2.06-.94L8.5 2.5l-.94 2.06-2.06.94zm10 10l.94 2.06.94-2.06 2.06-.94-2.06-.94-.94-2.06-.94 2.06-2.06.94z\"/><path d=\"M17.41 7.96l-1.37-1.37c-.4-.4-.92-.59-1.43-.59-.52 0-1.04.2-1.43.59L10.3 9.45l-7.72 7.72c-.78.78-.78 2.05 0 2.83L4 21.41c.39.39.9.59 1.41.59.51 0 1.02-.2 1.41-.59l7.78-7.78 2.81-2.81c.8-.78.8-2.07 0-2.86zM5.41 20L4 18.59l7.72-7.72 1.47 1.35L5.41 20z\"/>\n",
              "  </svg>\n",
              "      </button>\n",
              "      \n",
              "  <style>\n",
              "    .colab-df-container {\n",
              "      display:flex;\n",
              "      flex-wrap:wrap;\n",
              "      gap: 12px;\n",
              "    }\n",
              "\n",
              "    .colab-df-convert {\n",
              "      background-color: #E8F0FE;\n",
              "      border: none;\n",
              "      border-radius: 50%;\n",
              "      cursor: pointer;\n",
              "      display: none;\n",
              "      fill: #1967D2;\n",
              "      height: 32px;\n",
              "      padding: 0 0 0 0;\n",
              "      width: 32px;\n",
              "    }\n",
              "\n",
              "    .colab-df-convert:hover {\n",
              "      background-color: #E2EBFA;\n",
              "      box-shadow: 0px 1px 2px rgba(60, 64, 67, 0.3), 0px 1px 3px 1px rgba(60, 64, 67, 0.15);\n",
              "      fill: #174EA6;\n",
              "    }\n",
              "\n",
              "    [theme=dark] .colab-df-convert {\n",
              "      background-color: #3B4455;\n",
              "      fill: #D2E3FC;\n",
              "    }\n",
              "\n",
              "    [theme=dark] .colab-df-convert:hover {\n",
              "      background-color: #434B5C;\n",
              "      box-shadow: 0px 1px 3px 1px rgba(0, 0, 0, 0.15);\n",
              "      filter: drop-shadow(0px 1px 2px rgba(0, 0, 0, 0.3));\n",
              "      fill: #FFFFFF;\n",
              "    }\n",
              "  </style>\n",
              "\n",
              "      <script>\n",
              "        const buttonEl =\n",
              "          document.querySelector('#df-bd6b4f34-badb-4a31-9bcd-a837c7b5b913 button.colab-df-convert');\n",
              "        buttonEl.style.display =\n",
              "          google.colab.kernel.accessAllowed ? 'block' : 'none';\n",
              "\n",
              "        async function convertToInteractive(key) {\n",
              "          const element = document.querySelector('#df-bd6b4f34-badb-4a31-9bcd-a837c7b5b913');\n",
              "          const dataTable =\n",
              "            await google.colab.kernel.invokeFunction('convertToInteractive',\n",
              "                                                     [key], {});\n",
              "          if (!dataTable) return;\n",
              "\n",
              "          const docLinkHtml = 'Like what you see? Visit the ' +\n",
              "            '<a target=\"_blank\" href=https://colab.research.google.com/notebooks/data_table.ipynb>data table notebook</a>'\n",
              "            + ' to learn more about interactive tables.';\n",
              "          element.innerHTML = '';\n",
              "          dataTable['output_type'] = 'display_data';\n",
              "          await google.colab.output.renderOutput(dataTable, element);\n",
              "          const docLink = document.createElement('div');\n",
              "          docLink.innerHTML = docLinkHtml;\n",
              "          element.appendChild(docLink);\n",
              "        }\n",
              "      </script>\n",
              "    </div>\n",
              "  </div>\n",
              "  "
            ]
          },
          "metadata": {},
          "execution_count": 25
        }
      ],
      "source": [
        "#drop date\n",
        "price2021 = df2.iloc[:,1:]\n",
        "\n",
        "#We want return for the whole year so only use first and last month\n",
        "price2021_ = price2021.drop(price2021.index[1:11])\n",
        "price2021_.reset_index(inplace = True, drop = True)\n",
        "\n",
        "#Compute percent change\n",
        "ret_2021 = price2021_.pct_change().iloc[1:,:]\n",
        "\n",
        "ret_2021"
      ]
    },
    {
      "cell_type": "code",
      "execution_count": null,
      "id": "af36c052",
      "metadata": {
        "id": "af36c052",
        "outputId": "23a3832b-f051-4881-e908-c0e54ec13e35",
        "colab": {
          "base_uri": "https://localhost:8080/"
        }
      },
      "outputs": [
        {
          "output_type": "stream",
          "name": "stdout",
          "text": [
            "[0.02822425]\n",
            "[-0.58205562]\n",
            "[0.27953409]\n",
            "[0.05876436]\n",
            "[0.00962853]\n",
            "[0.325227]\n"
          ]
        }
      ],
      "source": [
        "#From classical frontier find\n",
        "#Minimum variance portfolio\n",
        "#orig_weights_minVar\n",
        "orig_minVar_ret2021 = np.dot(ret_2021, orig_weights_minVar)\n",
        "print(orig_minVar_ret2021)\n",
        "\n",
        "\n",
        "#Maximum return portfolio\n",
        "#orig_weights_maxRet\n",
        "orig_maxRet_ret2021 = np.dot(ret_2021, orig_weights_maxRet)\n",
        "print(orig_maxRet_ret2021)\n",
        "\n",
        "#Sharpe ratio portfolio\n",
        "#orig_weights_sharpe\n",
        "orig_sharpe_ret2021 = np.dot(ret_2021, weights_sharpe_clas)\n",
        "print(orig_sharpe_ret2021)\n",
        "\n",
        "\n",
        "#From resampled frontier--------------------------------------------------------\n",
        "\n",
        "# Minimum variance portfolio\n",
        "Resampled_minVar_ret2021 = np.dot(ret_2021, resampled_weights_minVar)\n",
        "print(Resampled_minVar_ret2021)\n",
        "\n",
        "#Maximum return portfolio\n",
        "#orig_weights_maxRet\n",
        "Resampled_maxRet_ret2021 = np.dot(ret_2021, resampled_weights_maxRet)\n",
        "print(Resampled_maxRet_ret2021)\n",
        "\n",
        "#Sharpe ratio portfolio\n",
        "#orig_weights_sharpe\n",
        "Resampled_sharpe_ret2021 = np.dot(ret_2021, weights_sharpe_resam)\n",
        "print(Resampled_sharpe_ret2021)"
      ]
    },
    {
      "cell_type": "code",
      "execution_count": null,
      "id": "435a8b39",
      "metadata": {
        "id": "435a8b39",
        "outputId": "0110d07e-c5c4-44ba-b236-80490377c532",
        "colab": {
          "base_uri": "https://localhost:8080/"
        }
      },
      "outputs": [
        {
          "output_type": "stream",
          "name": "stdout",
          "text": [
            "Out-of-sample returns on $1000 investment: \n",
            "\n",
            "On the Classical Efficient Frontier, the minimum variance portfolio returns $ [28.22424688]\n",
            "On the Classical Efficient Frontier, the maximum return portfolio returns $ [-582.05561928]\n",
            "On the Classical Efficient Frontier, the optimal Sharpe ratio portfolio returns $ [279.53409065] \n",
            "\n",
            "On the Resampled Efficient Frontier, the minimum variance portfolio returns $ [58.76436015]\n",
            "On the Resampled Efficient Frontier, the maximum return portfolio returns $ [9.62852516]\n",
            "On the Resampled Efficient Frontier, the optimal Sharpe ratio portfolio returns $ [325.22699589]\n"
          ]
        }
      ],
      "source": [
        "#Compute returns on $1000\n",
        "\n",
        "#Compute returns on $1000\n",
        "\n",
        "print('Out-of-sample returns on $1000 investment: \\n')\n",
        "print('On the Classical Efficient Frontier, the minimum variance portfolio returns $' , orig_minVar_ret2021*1000)\n",
        "print('On the Classical Efficient Frontier, the maximum return portfolio returns $' , orig_maxRet_ret2021*1000)\n",
        "print('On the Classical Efficient Frontier, the optimal Sharpe ratio portfolio returns $' , orig_sharpe_ret2021*1000 , '\\n')\n",
        "print('On the Resampled Efficient Frontier, the minimum variance portfolio returns $' , Resampled_minVar_ret2021*1000)\n",
        "print('On the Resampled Efficient Frontier, the maximum return portfolio returns $' , Resampled_maxRet_ret2021*1000)\n",
        "print('On the Resampled Efficient Frontier, the optimal Sharpe ratio portfolio returns $' , Resampled_sharpe_ret2021*1000)"
      ]
    },
    {
      "cell_type": "code",
      "source": [
        "len(Q_resample_list)"
      ],
      "metadata": {
        "colab": {
          "base_uri": "https://localhost:8080/"
        },
        "id": "dUBVG1ynelo7",
        "outputId": "5890836a-1c21-44f5-bfcf-8ad448bff78c"
      },
      "id": "dUBVG1ynelo7",
      "execution_count": null,
      "outputs": [
        {
          "output_type": "execute_result",
          "data": {
            "text/plain": [
              "85"
            ]
          },
          "metadata": {},
          "execution_count": 28
        }
      ]
    },
    {
      "cell_type": "markdown",
      "id": "b505271c",
      "metadata": {
        "id": "b505271c"
      },
      "source": [
        "### 3. Plot the classical and resampled efficient frontiers [10pts]"
      ]
    },
    {
      "cell_type": "code",
      "execution_count": null,
      "id": "a54e998b",
      "metadata": {
        "id": "a54e998b",
        "colab": {
          "base_uri": "https://localhost:8080/",
          "height": 295
        },
        "outputId": "5d06ab9c-1342-4b22-aedc-d1aed8847c33"
      },
      "outputs": [
        {
          "output_type": "display_data",
          "data": {
            "text/plain": [
              "<Figure size 432x288 with 1 Axes>"
            ],
            "image/png": "[encoded data removed]"
          },
          "metadata": {
            "needs_background": "light"
          }
        }
      ],
      "source": [
        "#Missing varianble  - do not run\n",
        "\n",
        "axC = plt.gca()\n",
        "plt.rcParams['figure.figsize'] = [9, 8]\n",
        "#*********************CHANGE RANGE TO repetition WHEN SOLVER ISSUE IS RESOLVED(solver terminates before 100 repetitions)\n",
        "for i in range(repetition):\n",
        "    # Plot volatility versus expected return for individual stocks\n",
        "    axC.scatter(x=np.sqrt(np.diag(Q_resample_list[i])), y=mu_resample_list[i], color='darkgray', label='Individual Stocks' if i == 0 else \"\")\n",
        "    \n",
        "    # Plot volatility versus expected return for mimimum variance portfolio\n",
        "    axC.scatter(x=np.sqrt(var_minVar_list[i]), y=ret_minVar_list[i], marker='D', s=30,  color='limegreen', label='Minimum Variance Portfolio' if i == 0 else \"\")\n",
        "\n",
        "    # Plot volatility versus expected return for maximum return portfolio\n",
        "    axC.scatter(x=np.sqrt(var_maxRet_list[i]), y=ret_maxRet_list[i],  marker='D', s=30, color='darkviolet', label='Maximum Return Portfolio' if i == 0 else \"\")\n",
        "\n",
        "    # Plot efficient frontier\n",
        "    axC.plot(np.sqrt(var_frontC_list[i]), ret_frontC_list[i], '--', color='peachpuff', label='Efficient Frontier' if i == 0 else \"\")\n",
        "\n",
        "#Plot the classical mean-variance efficient frontier\n",
        "axC.plot(np.sqrt(var_front_clas), ret_front_clas, color='blue', linewidth=3, label='Classical Efficient Frontier')\n",
        "\n",
        "#Plot the resampled efficient frontier\n",
        "axC.plot(np.sqrt(var_front_resample), ret_front_resample, color='red', linewidth=3, label='Resampled Efficient Frontier')\n",
        "\n",
        "axC.set_xlabel('Volatility (Standard Deviation)')\n",
        "axC.set_ylabel('Expected Return')\n",
        "plt.title('Efficient Frontier')\n",
        "axC.legend(loc=\"lower right\")\n",
        "axC.grid()\n",
        "plt.show()\n",
        "\n"
      ]
    },
    {
      "cell_type": "markdown",
      "id": "12a29b56",
      "metadata": {
        "id": "12a29b56"
      },
      "source": [
        "### 4.\tPlot the portfolio compositions for classical and resampled frontiers. [15pts]"
      ]
    },
    {
      "cell_type": "code",
      "execution_count": null,
      "id": "1193bb99",
      "metadata": {
        "scrolled": false,
        "id": "1193bb99",
        "outputId": "79cee765-eeeb-4f63-8b98-482235d1f7dc",
        "colab": {
          "base_uri": "https://localhost:8080/",
          "height": 430
        }
      },
      "outputs": [
        {
          "output_type": "display_data",
          "data": {
            "text/plain": [
              "<Figure size 576x432 with 1 Axes>"
            ],
            "image/png": "[encoded data removed]"
          },
          "metadata": {
            "needs_background": "light"
          }
        }
      ],
      "source": [
        "x_tick = np.arange(len(targetRet))+1\n",
        "color_list = ['fuchsia','green','pink','orange','purple','royalblue','grey','firebrick','olive','black','yellow','lime','indigo','red','blue','teal','skyblue','tan','cyan','navy']\n",
        "plt.figure(figsize=(8, 6))\n",
        "plt.stackplot(x_tick, np.array(w_front_clas).T, colors=color_list)\n",
        "plt.legend(df1.columns[1:], bbox_to_anchor=(1.2, 1))\n",
        "plt.xlim((1,len(targetRet)))\n",
        "plt.ylim((0,1))\n",
        "plt.xticks(np.arange(1,len(targetRet)+1,5))\n",
        "plt.xlabel(\"Portfolio No. (with increasing target return)\")\n",
        "plt.ylabel(\"Portfolio Weights\")\n",
        "plt.title(\"Portfolio Allocations: Classical Mean-Variance Optimization\")\n",
        "plt.show()"
      ]
    },
    {
      "cell_type": "code",
      "execution_count": null,
      "id": "943523dd",
      "metadata": {
        "id": "943523dd",
        "colab": {
          "base_uri": "https://localhost:8080/",
          "height": 430
        },
        "outputId": "a66e5990-0fda-4052-8703-163fa30920ea"
      },
      "outputs": [
        {
          "output_type": "display_data",
          "data": {
            "text/plain": [
              "<Figure size 576x432 with 1 Axes>"
            ],
            "image/png": "[encoded data removed]"
          },
          "metadata": {
            "needs_background": "light"
          }
        }
      ],
      "source": [
        "#Missing variables - do not run\n",
        "\n",
        "x_tick = np.arange(len(targetRet))+1\n",
        "color_list = ['fuchsia','green','pink','orange','purple','royalblue','grey','firebrick','olive','black','yellow','lime','indigo','red','blue','teal','skyblue','tan','cyan','navy']\n",
        "plt.figure(figsize=(8, 6))\n",
        "plt.stackplot(x_tick, np.array(a).T, colors=color_list)\n",
        "plt.legend(df1.columns[1:], bbox_to_anchor=(1.2, 1))\n",
        "plt.xlim((1,len(targetRet)))\n",
        "plt.ylim((0,1))\n",
        "plt.xticks(np.arange(1,len(targetRet)+1,5))\n",
        "plt.xlabel(\"Portfolio No. (with increasing target return)\")\n",
        "plt.ylabel(\"Portfolio Weights\")\n",
        "plt.title(\"Portfolio Allocations: Resampled\")\n",
        "plt.show()\n",
        "\n"
      ]
    }
  ],
  "metadata": {
    "kernelspec": {
      "display_name": "Python 3 (ipykernel)",
      "language": "python",
      "name": "python3"
    },
    "language_info": {
      "codemirror_mode": {
        "name": "ipython",
        "version": 3
      },
      "file_extension": ".py",
      "mimetype": "text/x-python",
      "name": "python",
      "nbconvert_exporter": "python",
      "pygments_lexer": "ipython3",
      "version": "3.9.7"
    },
    "colab": {
      "provenance": []
    }
  },
  "nbformat": 4,
  "nbformat_minor": 5
}